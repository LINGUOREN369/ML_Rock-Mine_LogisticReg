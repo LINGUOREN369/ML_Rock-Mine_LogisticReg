{
  "nbformat": 4,
  "nbformat_minor": 0,
  "metadata": {
    "colab": {
      "provenance": []
    },
    "kernelspec": {
      "name": "python3",
      "display_name": "Python 3"
    },
    "language_info": {
      "name": "python"
    }
  },
  "cells": [
    {
      "cell_type": "code",
      "execution_count": 2,
      "metadata": {
        "id": "C6HX20t6qic3"
      },
      "outputs": [],
      "source": [
        "import numpy as np\n",
        "import pandas as pd\n",
        "import seaborn as sns\n",
        "import matplotlib.pyplot as plt\n",
        "from sklearn.cluster import KMeans"
      ]
    },
    {
      "cell_type": "markdown",
      "source": [
        "Data Collection & Analysis"
      ],
      "metadata": {
        "id": "3wo36Vpfwggu"
      }
    },
    {
      "cell_type": "code",
      "source": [
        "customer_data = pd.read_csv('/content/Mall_Customers.csv')"
      ],
      "metadata": {
        "id": "O3ZQSeQMwfJT"
      },
      "execution_count": 3,
      "outputs": []
    },
    {
      "cell_type": "code",
      "source": [
        "customer_data.head()"
      ],
      "metadata": {
        "colab": {
          "base_uri": "https://localhost:8080/",
          "height": 206
        },
        "id": "n1BPkEyzwZJ7",
        "outputId": "e523d0d7-a049-44c9-d839-bc1b2ad89863"
      },
      "execution_count": 4,
      "outputs": [
        {
          "output_type": "execute_result",
          "data": {
            "text/plain": [
              "   CustomerID  Gender  Age  Annual Income (k$)  Spending Score (1-100)\n",
              "0           1    Male   19                  15                      39\n",
              "1           2    Male   21                  15                      81\n",
              "2           3  Female   20                  16                       6\n",
              "3           4  Female   23                  16                      77\n",
              "4           5  Female   31                  17                      40"
            ],
            "text/html": [
              "\n",
              "\n",
              "  <div id=\"df-aa9683d4-19ac-4787-b082-69f845b38edb\">\n",
              "    <div class=\"colab-df-container\">\n",
              "      <div>\n",
              "<style scoped>\n",
              "    .dataframe tbody tr th:only-of-type {\n",
              "        vertical-align: middle;\n",
              "    }\n",
              "\n",
              "    .dataframe tbody tr th {\n",
              "        vertical-align: top;\n",
              "    }\n",
              "\n",
              "    .dataframe thead th {\n",
              "        text-align: right;\n",
              "    }\n",
              "</style>\n",
              "<table border=\"1\" class=\"dataframe\">\n",
              "  <thead>\n",
              "    <tr style=\"text-align: right;\">\n",
              "      <th></th>\n",
              "      <th>CustomerID</th>\n",
              "      <th>Gender</th>\n",
              "      <th>Age</th>\n",
              "      <th>Annual Income (k$)</th>\n",
              "      <th>Spending Score (1-100)</th>\n",
              "    </tr>\n",
              "  </thead>\n",
              "  <tbody>\n",
              "    <tr>\n",
              "      <th>0</th>\n",
              "      <td>1</td>\n",
              "      <td>Male</td>\n",
              "      <td>19</td>\n",
              "      <td>15</td>\n",
              "      <td>39</td>\n",
              "    </tr>\n",
              "    <tr>\n",
              "      <th>1</th>\n",
              "      <td>2</td>\n",
              "      <td>Male</td>\n",
              "      <td>21</td>\n",
              "      <td>15</td>\n",
              "      <td>81</td>\n",
              "    </tr>\n",
              "    <tr>\n",
              "      <th>2</th>\n",
              "      <td>3</td>\n",
              "      <td>Female</td>\n",
              "      <td>20</td>\n",
              "      <td>16</td>\n",
              "      <td>6</td>\n",
              "    </tr>\n",
              "    <tr>\n",
              "      <th>3</th>\n",
              "      <td>4</td>\n",
              "      <td>Female</td>\n",
              "      <td>23</td>\n",
              "      <td>16</td>\n",
              "      <td>77</td>\n",
              "    </tr>\n",
              "    <tr>\n",
              "      <th>4</th>\n",
              "      <td>5</td>\n",
              "      <td>Female</td>\n",
              "      <td>31</td>\n",
              "      <td>17</td>\n",
              "      <td>40</td>\n",
              "    </tr>\n",
              "  </tbody>\n",
              "</table>\n",
              "</div>\n",
              "      <button class=\"colab-df-convert\" onclick=\"convertToInteractive('df-aa9683d4-19ac-4787-b082-69f845b38edb')\"\n",
              "              title=\"Convert this dataframe to an interactive table.\"\n",
              "              style=\"display:none;\">\n",
              "\n",
              "  <svg xmlns=\"http://www.w3.org/2000/svg\" height=\"24px\"viewBox=\"0 0 24 24\"\n",
              "       width=\"24px\">\n",
              "    <path d=\"M0 0h24v24H0V0z\" fill=\"none\"/>\n",
              "    <path d=\"M18.56 5.44l.94 2.06.94-2.06 2.06-.94-2.06-.94-.94-2.06-.94 2.06-2.06.94zm-11 1L8.5 8.5l.94-2.06 2.06-.94-2.06-.94L8.5 2.5l-.94 2.06-2.06.94zm10 10l.94 2.06.94-2.06 2.06-.94-2.06-.94-.94-2.06-.94 2.06-2.06.94z\"/><path d=\"M17.41 7.96l-1.37-1.37c-.4-.4-.92-.59-1.43-.59-.52 0-1.04.2-1.43.59L10.3 9.45l-7.72 7.72c-.78.78-.78 2.05 0 2.83L4 21.41c.39.39.9.59 1.41.59.51 0 1.02-.2 1.41-.59l7.78-7.78 2.81-2.81c.8-.78.8-2.07 0-2.86zM5.41 20L4 18.59l7.72-7.72 1.47 1.35L5.41 20z\"/>\n",
              "  </svg>\n",
              "      </button>\n",
              "\n",
              "\n",
              "\n",
              "    <div id=\"df-c96fdb13-3520-44fe-8894-c20e8fea2037\">\n",
              "      <button class=\"colab-df-quickchart\" onclick=\"quickchart('df-c96fdb13-3520-44fe-8894-c20e8fea2037')\"\n",
              "              title=\"Suggest charts.\"\n",
              "              style=\"display:none;\">\n",
              "\n",
              "<svg xmlns=\"http://www.w3.org/2000/svg\" height=\"24px\"viewBox=\"0 0 24 24\"\n",
              "     width=\"24px\">\n",
              "    <g>\n",
              "        <path d=\"M19 3H5c-1.1 0-2 .9-2 2v14c0 1.1.9 2 2 2h14c1.1 0 2-.9 2-2V5c0-1.1-.9-2-2-2zM9 17H7v-7h2v7zm4 0h-2V7h2v10zm4 0h-2v-4h2v4z\"/>\n",
              "    </g>\n",
              "</svg>\n",
              "      </button>\n",
              "    </div>\n",
              "\n",
              "<style>\n",
              "  .colab-df-quickchart {\n",
              "    background-color: #E8F0FE;\n",
              "    border: none;\n",
              "    border-radius: 50%;\n",
              "    cursor: pointer;\n",
              "    display: none;\n",
              "    fill: #1967D2;\n",
              "    height: 32px;\n",
              "    padding: 0 0 0 0;\n",
              "    width: 32px;\n",
              "  }\n",
              "\n",
              "  .colab-df-quickchart:hover {\n",
              "    background-color: #E2EBFA;\n",
              "    box-shadow: 0px 1px 2px rgba(60, 64, 67, 0.3), 0px 1px 3px 1px rgba(60, 64, 67, 0.15);\n",
              "    fill: #174EA6;\n",
              "  }\n",
              "\n",
              "  [theme=dark] .colab-df-quickchart {\n",
              "    background-color: #3B4455;\n",
              "    fill: #D2E3FC;\n",
              "  }\n",
              "\n",
              "  [theme=dark] .colab-df-quickchart:hover {\n",
              "    background-color: #434B5C;\n",
              "    box-shadow: 0px 1px 3px 1px rgba(0, 0, 0, 0.15);\n",
              "    filter: drop-shadow(0px 1px 2px rgba(0, 0, 0, 0.3));\n",
              "    fill: #FFFFFF;\n",
              "  }\n",
              "</style>\n",
              "\n",
              "    <script>\n",
              "      async function quickchart(key) {\n",
              "        const containerElement = document.querySelector('#' + key);\n",
              "        const charts = await google.colab.kernel.invokeFunction(\n",
              "            'suggestCharts', [key], {});\n",
              "      }\n",
              "    </script>\n",
              "\n",
              "      <script>\n",
              "\n",
              "function displayQuickchartButton(domScope) {\n",
              "  let quickchartButtonEl =\n",
              "    domScope.querySelector('#df-c96fdb13-3520-44fe-8894-c20e8fea2037 button.colab-df-quickchart');\n",
              "  quickchartButtonEl.style.display =\n",
              "    google.colab.kernel.accessAllowed ? 'block' : 'none';\n",
              "}\n",
              "\n",
              "        displayQuickchartButton(document);\n",
              "      </script>\n",
              "      <style>\n",
              "    .colab-df-container {\n",
              "      display:flex;\n",
              "      flex-wrap:wrap;\n",
              "      gap: 12px;\n",
              "    }\n",
              "\n",
              "    .colab-df-convert {\n",
              "      background-color: #E8F0FE;\n",
              "      border: none;\n",
              "      border-radius: 50%;\n",
              "      cursor: pointer;\n",
              "      display: none;\n",
              "      fill: #1967D2;\n",
              "      height: 32px;\n",
              "      padding: 0 0 0 0;\n",
              "      width: 32px;\n",
              "    }\n",
              "\n",
              "    .colab-df-convert:hover {\n",
              "      background-color: #E2EBFA;\n",
              "      box-shadow: 0px 1px 2px rgba(60, 64, 67, 0.3), 0px 1px 3px 1px rgba(60, 64, 67, 0.15);\n",
              "      fill: #174EA6;\n",
              "    }\n",
              "\n",
              "    [theme=dark] .colab-df-convert {\n",
              "      background-color: #3B4455;\n",
              "      fill: #D2E3FC;\n",
              "    }\n",
              "\n",
              "    [theme=dark] .colab-df-convert:hover {\n",
              "      background-color: #434B5C;\n",
              "      box-shadow: 0px 1px 3px 1px rgba(0, 0, 0, 0.15);\n",
              "      filter: drop-shadow(0px 1px 2px rgba(0, 0, 0, 0.3));\n",
              "      fill: #FFFFFF;\n",
              "    }\n",
              "  </style>\n",
              "\n",
              "      <script>\n",
              "        const buttonEl =\n",
              "          document.querySelector('#df-aa9683d4-19ac-4787-b082-69f845b38edb button.colab-df-convert');\n",
              "        buttonEl.style.display =\n",
              "          google.colab.kernel.accessAllowed ? 'block' : 'none';\n",
              "\n",
              "        async function convertToInteractive(key) {\n",
              "          const element = document.querySelector('#df-aa9683d4-19ac-4787-b082-69f845b38edb');\n",
              "          const dataTable =\n",
              "            await google.colab.kernel.invokeFunction('convertToInteractive',\n",
              "                                                     [key], {});\n",
              "          if (!dataTable) return;\n",
              "\n",
              "          const docLinkHtml = 'Like what you see? Visit the ' +\n",
              "            '<a target=\"_blank\" href=https://colab.research.google.com/notebooks/data_table.ipynb>data table notebook</a>'\n",
              "            + ' to learn more about interactive tables.';\n",
              "          element.innerHTML = '';\n",
              "          dataTable['output_type'] = 'display_data';\n",
              "          await google.colab.output.renderOutput(dataTable, element);\n",
              "          const docLink = document.createElement('div');\n",
              "          docLink.innerHTML = docLinkHtml;\n",
              "          element.appendChild(docLink);\n",
              "        }\n",
              "      </script>\n",
              "    </div>\n",
              "  </div>\n"
            ]
          },
          "metadata": {},
          "execution_count": 4
        }
      ]
    },
    {
      "cell_type": "code",
      "source": [
        "customer_data.shape"
      ],
      "metadata": {
        "colab": {
          "base_uri": "https://localhost:8080/"
        },
        "id": "9Nntl0hgwpg5",
        "outputId": "18795cec-41fb-4976-c93a-40bb1564ea5e"
      },
      "execution_count": 5,
      "outputs": [
        {
          "output_type": "execute_result",
          "data": {
            "text/plain": [
              "(200, 5)"
            ]
          },
          "metadata": {},
          "execution_count": 5
        }
      ]
    },
    {
      "cell_type": "code",
      "source": [
        "#Getting some info abour the dataset\n",
        "customer_data.info()"
      ],
      "metadata": {
        "colab": {
          "base_uri": "https://localhost:8080/"
        },
        "id": "iOzM0IWkxBO8",
        "outputId": "bb06036f-c27e-42fd-eb7a-5fe5c2e8372f"
      },
      "execution_count": 6,
      "outputs": [
        {
          "output_type": "stream",
          "name": "stdout",
          "text": [
            "<class 'pandas.core.frame.DataFrame'>\n",
            "RangeIndex: 200 entries, 0 to 199\n",
            "Data columns (total 5 columns):\n",
            " #   Column                  Non-Null Count  Dtype \n",
            "---  ------                  --------------  ----- \n",
            " 0   CustomerID              200 non-null    int64 \n",
            " 1   Gender                  200 non-null    object\n",
            " 2   Age                     200 non-null    int64 \n",
            " 3   Annual Income (k$)      200 non-null    int64 \n",
            " 4   Spending Score (1-100)  200 non-null    int64 \n",
            "dtypes: int64(4), object(1)\n",
            "memory usage: 7.9+ KB\n"
          ]
        }
      ]
    },
    {
      "cell_type": "code",
      "source": [
        "customer_data.isnull().sum()"
      ],
      "metadata": {
        "colab": {
          "base_uri": "https://localhost:8080/"
        },
        "id": "Hat7NdODxIEu",
        "outputId": "82908345-be1e-42d0-d706-5231faf7a388"
      },
      "execution_count": 7,
      "outputs": [
        {
          "output_type": "execute_result",
          "data": {
            "text/plain": [
              "CustomerID                0\n",
              "Gender                    0\n",
              "Age                       0\n",
              "Annual Income (k$)        0\n",
              "Spending Score (1-100)    0\n",
              "dtype: int64"
            ]
          },
          "metadata": {},
          "execution_count": 7
        }
      ]
    },
    {
      "cell_type": "code",
      "source": [
        "customer_data['Age'].value_counts()"
      ],
      "metadata": {
        "colab": {
          "base_uri": "https://localhost:8080/"
        },
        "id": "pS9V4oaZxVKI",
        "outputId": "27921e27-2976-49ee-905b-45fb51f66c9e"
      },
      "execution_count": 37,
      "outputs": [
        {
          "output_type": "execute_result",
          "data": {
            "text/plain": [
              "32    11\n",
              "35     9\n",
              "19     8\n",
              "31     8\n",
              "30     7\n",
              "49     7\n",
              "40     6\n",
              "38     6\n",
              "47     6\n",
              "27     6\n",
              "36     6\n",
              "23     6\n",
              "34     5\n",
              "20     5\n",
              "29     5\n",
              "50     5\n",
              "48     5\n",
              "21     5\n",
              "24     4\n",
              "18     4\n",
              "28     4\n",
              "67     4\n",
              "59     4\n",
              "54     4\n",
              "43     3\n",
              "60     3\n",
              "45     3\n",
              "39     3\n",
              "33     3\n",
              "37     3\n",
              "22     3\n",
              "25     3\n",
              "46     3\n",
              "68     3\n",
              "52     2\n",
              "44     2\n",
              "66     2\n",
              "57     2\n",
              "26     2\n",
              "53     2\n",
              "42     2\n",
              "63     2\n",
              "70     2\n",
              "51     2\n",
              "58     2\n",
              "65     2\n",
              "41     2\n",
              "55     1\n",
              "69     1\n",
              "64     1\n",
              "56     1\n",
              "Name: Age, dtype: int64"
            ]
          },
          "metadata": {},
          "execution_count": 37
        }
      ]
    },
    {
      "cell_type": "code",
      "source": [
        "X = customer_data.iloc[:,[2,4]].values"
      ],
      "metadata": {
        "id": "we_LCg0FxZ4z"
      },
      "execution_count": 39,
      "outputs": []
    },
    {
      "cell_type": "code",
      "source": [
        "X"
      ],
      "metadata": {
        "colab": {
          "base_uri": "https://localhost:8080/"
        },
        "id": "qGZhD63nx2LX",
        "outputId": "4c1478dd-f13f-46c1-ee52-4ce1b9a2f88f"
      },
      "execution_count": 40,
      "outputs": [
        {
          "output_type": "execute_result",
          "data": {
            "text/plain": [
              "array([[19, 39],\n",
              "       [21, 81],\n",
              "       [20,  6],\n",
              "       [23, 77],\n",
              "       [31, 40],\n",
              "       [22, 76],\n",
              "       [35,  6],\n",
              "       [23, 94],\n",
              "       [64,  3],\n",
              "       [30, 72],\n",
              "       [67, 14],\n",
              "       [35, 99],\n",
              "       [58, 15],\n",
              "       [24, 77],\n",
              "       [37, 13],\n",
              "       [22, 79],\n",
              "       [35, 35],\n",
              "       [20, 66],\n",
              "       [52, 29],\n",
              "       [35, 98],\n",
              "       [35, 35],\n",
              "       [25, 73],\n",
              "       [46,  5],\n",
              "       [31, 73],\n",
              "       [54, 14],\n",
              "       [29, 82],\n",
              "       [45, 32],\n",
              "       [35, 61],\n",
              "       [40, 31],\n",
              "       [23, 87],\n",
              "       [60,  4],\n",
              "       [21, 73],\n",
              "       [53,  4],\n",
              "       [18, 92],\n",
              "       [49, 14],\n",
              "       [21, 81],\n",
              "       [42, 17],\n",
              "       [30, 73],\n",
              "       [36, 26],\n",
              "       [20, 75],\n",
              "       [65, 35],\n",
              "       [24, 92],\n",
              "       [48, 36],\n",
              "       [31, 61],\n",
              "       [49, 28],\n",
              "       [24, 65],\n",
              "       [50, 55],\n",
              "       [27, 47],\n",
              "       [29, 42],\n",
              "       [31, 42],\n",
              "       [49, 52],\n",
              "       [33, 60],\n",
              "       [31, 54],\n",
              "       [59, 60],\n",
              "       [50, 45],\n",
              "       [47, 41],\n",
              "       [51, 50],\n",
              "       [69, 46],\n",
              "       [27, 51],\n",
              "       [53, 46],\n",
              "       [70, 56],\n",
              "       [19, 55],\n",
              "       [67, 52],\n",
              "       [54, 59],\n",
              "       [63, 51],\n",
              "       [18, 59],\n",
              "       [43, 50],\n",
              "       [68, 48],\n",
              "       [19, 59],\n",
              "       [32, 47],\n",
              "       [70, 55],\n",
              "       [47, 42],\n",
              "       [60, 49],\n",
              "       [60, 56],\n",
              "       [59, 47],\n",
              "       [26, 54],\n",
              "       [45, 53],\n",
              "       [40, 48],\n",
              "       [23, 52],\n",
              "       [49, 42],\n",
              "       [57, 51],\n",
              "       [38, 55],\n",
              "       [67, 41],\n",
              "       [46, 44],\n",
              "       [21, 57],\n",
              "       [48, 46],\n",
              "       [55, 58],\n",
              "       [22, 55],\n",
              "       [34, 60],\n",
              "       [50, 46],\n",
              "       [68, 55],\n",
              "       [18, 41],\n",
              "       [48, 49],\n",
              "       [40, 40],\n",
              "       [32, 42],\n",
              "       [24, 52],\n",
              "       [47, 47],\n",
              "       [27, 50],\n",
              "       [48, 42],\n",
              "       [20, 49],\n",
              "       [23, 41],\n",
              "       [49, 48],\n",
              "       [67, 59],\n",
              "       [26, 55],\n",
              "       [49, 56],\n",
              "       [21, 42],\n",
              "       [66, 50],\n",
              "       [54, 46],\n",
              "       [68, 43],\n",
              "       [66, 48],\n",
              "       [65, 52],\n",
              "       [19, 54],\n",
              "       [38, 42],\n",
              "       [19, 46],\n",
              "       [18, 48],\n",
              "       [19, 50],\n",
              "       [63, 43],\n",
              "       [49, 59],\n",
              "       [51, 43],\n",
              "       [50, 57],\n",
              "       [27, 56],\n",
              "       [38, 40],\n",
              "       [40, 58],\n",
              "       [39, 91],\n",
              "       [23, 29],\n",
              "       [31, 77],\n",
              "       [43, 35],\n",
              "       [40, 95],\n",
              "       [59, 11],\n",
              "       [38, 75],\n",
              "       [47,  9],\n",
              "       [39, 75],\n",
              "       [25, 34],\n",
              "       [31, 71],\n",
              "       [20,  5],\n",
              "       [29, 88],\n",
              "       [44,  7],\n",
              "       [32, 73],\n",
              "       [19, 10],\n",
              "       [35, 72],\n",
              "       [57,  5],\n",
              "       [32, 93],\n",
              "       [28, 40],\n",
              "       [32, 87],\n",
              "       [25, 12],\n",
              "       [28, 97],\n",
              "       [48, 36],\n",
              "       [32, 74],\n",
              "       [34, 22],\n",
              "       [34, 90],\n",
              "       [43, 17],\n",
              "       [39, 88],\n",
              "       [44, 20],\n",
              "       [38, 76],\n",
              "       [47, 16],\n",
              "       [27, 89],\n",
              "       [37,  1],\n",
              "       [30, 78],\n",
              "       [34,  1],\n",
              "       [30, 73],\n",
              "       [56, 35],\n",
              "       [29, 83],\n",
              "       [19,  5],\n",
              "       [31, 93],\n",
              "       [50, 26],\n",
              "       [36, 75],\n",
              "       [42, 20],\n",
              "       [33, 95],\n",
              "       [36, 27],\n",
              "       [32, 63],\n",
              "       [40, 13],\n",
              "       [28, 75],\n",
              "       [36, 10],\n",
              "       [36, 92],\n",
              "       [52, 13],\n",
              "       [30, 86],\n",
              "       [58, 15],\n",
              "       [27, 69],\n",
              "       [59, 14],\n",
              "       [35, 90],\n",
              "       [37, 32],\n",
              "       [32, 86],\n",
              "       [46, 15],\n",
              "       [29, 88],\n",
              "       [41, 39],\n",
              "       [30, 97],\n",
              "       [54, 24],\n",
              "       [28, 68],\n",
              "       [41, 17],\n",
              "       [36, 85],\n",
              "       [34, 23],\n",
              "       [32, 69],\n",
              "       [33,  8],\n",
              "       [38, 91],\n",
              "       [47, 16],\n",
              "       [35, 79],\n",
              "       [45, 28],\n",
              "       [32, 74],\n",
              "       [32, 18],\n",
              "       [30, 83]])"
            ]
          },
          "metadata": {},
          "execution_count": 40
        }
      ]
    },
    {
      "cell_type": "code",
      "source": [
        "#Choosing the numbers of clusters\n",
        "#WCSS -> Within Clusters Sum of Squares\n",
        "#Finding WCSS value for different number of clusters\n",
        "\n",
        "WCSS = []\n",
        "\n",
        "for i in range(1,11):\n",
        "  kmeans = KMeans(n_clusters=i, init = 'k-means++', random_state = 42)\n",
        "  kmeans.fit(X)\n",
        "  WCSS.append(kmeans.inertia_)\n"
      ],
      "metadata": {
        "colab": {
          "base_uri": "https://localhost:8080/"
        },
        "id": "dOLHBey7x3Tk",
        "outputId": "82ca4e1f-0069-42f6-dd0f-8ad33eb9bf8b"
      },
      "execution_count": 41,
      "outputs": [
        {
          "output_type": "stream",
          "name": "stderr",
          "text": [
            "/usr/local/lib/python3.10/dist-packages/sklearn/cluster/_kmeans.py:870: FutureWarning: The default value of `n_init` will change from 10 to 'auto' in 1.4. Set the value of `n_init` explicitly to suppress the warning\n",
            "  warnings.warn(\n",
            "/usr/local/lib/python3.10/dist-packages/sklearn/cluster/_kmeans.py:870: FutureWarning: The default value of `n_init` will change from 10 to 'auto' in 1.4. Set the value of `n_init` explicitly to suppress the warning\n",
            "  warnings.warn(\n",
            "/usr/local/lib/python3.10/dist-packages/sklearn/cluster/_kmeans.py:870: FutureWarning: The default value of `n_init` will change from 10 to 'auto' in 1.4. Set the value of `n_init` explicitly to suppress the warning\n",
            "  warnings.warn(\n",
            "/usr/local/lib/python3.10/dist-packages/sklearn/cluster/_kmeans.py:870: FutureWarning: The default value of `n_init` will change from 10 to 'auto' in 1.4. Set the value of `n_init` explicitly to suppress the warning\n",
            "  warnings.warn(\n",
            "/usr/local/lib/python3.10/dist-packages/sklearn/cluster/_kmeans.py:870: FutureWarning: The default value of `n_init` will change from 10 to 'auto' in 1.4. Set the value of `n_init` explicitly to suppress the warning\n",
            "  warnings.warn(\n",
            "/usr/local/lib/python3.10/dist-packages/sklearn/cluster/_kmeans.py:870: FutureWarning: The default value of `n_init` will change from 10 to 'auto' in 1.4. Set the value of `n_init` explicitly to suppress the warning\n",
            "  warnings.warn(\n",
            "/usr/local/lib/python3.10/dist-packages/sklearn/cluster/_kmeans.py:870: FutureWarning: The default value of `n_init` will change from 10 to 'auto' in 1.4. Set the value of `n_init` explicitly to suppress the warning\n",
            "  warnings.warn(\n",
            "/usr/local/lib/python3.10/dist-packages/sklearn/cluster/_kmeans.py:870: FutureWarning: The default value of `n_init` will change from 10 to 'auto' in 1.4. Set the value of `n_init` explicitly to suppress the warning\n",
            "  warnings.warn(\n",
            "/usr/local/lib/python3.10/dist-packages/sklearn/cluster/_kmeans.py:870: FutureWarning: The default value of `n_init` will change from 10 to 'auto' in 1.4. Set the value of `n_init` explicitly to suppress the warning\n",
            "  warnings.warn(\n",
            "/usr/local/lib/python3.10/dist-packages/sklearn/cluster/_kmeans.py:870: FutureWarning: The default value of `n_init` will change from 10 to 'auto' in 1.4. Set the value of `n_init` explicitly to suppress the warning\n",
            "  warnings.warn(\n"
          ]
        }
      ]
    },
    {
      "cell_type": "code",
      "source": [
        "#PLOT AN ELBOW GRAPH\n",
        "\n",
        "sns.set()\n",
        "plt.plot(range(1,11), WCSS)\n",
        "plt.title(\"the elbow point graph\")\n",
        "plt.xlabel(\"Number of Cluster\")\n",
        "plt.ylabel(\"WCSS\")\n",
        "plt.show()\n"
      ],
      "metadata": {
        "colab": {
          "base_uri": "https://localhost:8080/",
          "height": 480
        },
        "id": "rBiouDzDydwk",
        "outputId": "67cab634-6f34-4ced-b12b-147e6542ed0a"
      },
      "execution_count": 42,
      "outputs": [
        {
          "output_type": "display_data",
          "data": {
            "text/plain": [
              "<Figure size 640x480 with 1 Axes>"
            ],
            "image/png": "[encoded data removed]"
          },
          "metadata": {}
        }
      ]
    },
    {
      "cell_type": "markdown",
      "source": [
        "Optimal Number of Clusters = 5\n",
        "Training the k-Means Clustering Model"
      ],
      "metadata": {
        "id": "QncUiBeQ1Y3b"
      }
    },
    {
      "cell_type": "code",
      "source": [
        "kmeans = KMeans (n_clusters = 4, init='k-means++', random_state = 0)"
      ],
      "metadata": {
        "id": "Ci4W_1Fj1Yr-"
      },
      "execution_count": 47,
      "outputs": []
    },
    {
      "cell_type": "code",
      "source": [
        "Y = kmeans.fit_predict(X)"
      ],
      "metadata": {
        "colab": {
          "base_uri": "https://localhost:8080/"
        },
        "id": "ydlXWuOL0_TE",
        "outputId": "69613aed-9c08-4487-96ec-3ccb9508c6c2"
      },
      "execution_count": 48,
      "outputs": [
        {
          "output_type": "stream",
          "name": "stderr",
          "text": [
            "/usr/local/lib/python3.10/dist-packages/sklearn/cluster/_kmeans.py:870: FutureWarning: The default value of `n_init` will change from 10 to 'auto' in 1.4. Set the value of `n_init` explicitly to suppress the warning\n",
            "  warnings.warn(\n"
          ]
        }
      ]
    },
    {
      "cell_type": "code",
      "source": [
        "print(Y)"
      ],
      "metadata": {
        "colab": {
          "base_uri": "https://localhost:8080/"
        },
        "id": "e9rGvG1h2WNK",
        "outputId": "3e79f445-50a6-4b0a-c7e5-f98c2b570ea8"
      },
      "execution_count": 49,
      "outputs": [
        {
          "output_type": "stream",
          "name": "stdout",
          "text": [
            "[2 1 0 1 2 1 0 1 0 1 0 1 0 1 0 1 2 2 0 1 2 1 0 1 0 1 0 2 0 1 0 1 0 1 0 1 0\n",
            " 1 0 1 3 1 3 2 0 2 3 2 2 2 3 2 2 3 3 3 3 3 2 3 3 2 3 3 3 2 3 3 2 2 3 3 3 3\n",
            " 3 2 3 2 2 3 3 2 3 3 2 3 3 2 2 3 3 2 3 2 2 2 3 2 3 2 2 3 3 2 3 2 3 3 3 3 3\n",
            " 2 2 2 2 2 3 3 3 3 2 2 2 1 2 1 3 1 0 1 0 1 2 1 0 1 0 1 0 1 0 1 2 1 0 1 3 1\n",
            " 0 1 0 1 0 1 0 1 0 1 0 1 3 1 0 1 0 1 0 1 0 2 0 1 0 1 0 1 0 1 0 1 0 1 0 1 2\n",
            " 1 0 1 0 1 0 1 0 1 0 1 0 1 0 1]\n"
          ]
        }
      ]
    },
    {
      "cell_type": "markdown",
      "source": [
        "VISUALIZING ALL THE CLUSTERS"
      ],
      "metadata": {
        "id": "MtEtw5ue2vi_"
      }
    },
    {
      "cell_type": "code",
      "source": [
        "#PLOTING ALL THE CLUSTERS AND THEIR CENTROIDS\n",
        "\n",
        "plt.figure(figsize=(8,8))\n",
        "plt.scatter(X[Y==0,0], X[Y==0,1], s=50, c='green', label = 'Cluster 1')\n",
        "plt.scatter(X[Y==1,0], X[Y==1,1], s=50, c='red', label = 'Cluster 2')\n",
        "plt.scatter(X[Y==2,0], X[Y==2,1], s=50, c='yellow', label = 'Cluster 3')\n",
        "plt.scatter(X[Y==3,0], X[Y==3,1], s=50, c='pink', label = 'Cluster 4')\n",
        "plt.scatter(X[Y==4,0], X[Y==4,1], s=50, c='blue', label = 'Cluster 5')\n",
        "#plot the centroids\n",
        "plt.scatter(kmeans.cluster_centers_[:,0], kmeans.cluster_centers_[:,1], s=100, c='cyan',label = \"Centroids\")\n",
        "plt.legend()\n",
        "plt.title(\"Customer_Groups\")\n",
        "plt.xlabel(\"Annual_Income\")\n",
        "plt.ylabel(\"Spending Score\")"
      ],
      "metadata": {
        "colab": {
          "base_uri": "https://localhost:8080/",
          "height": 744
        },
        "id": "ZCereC5n2hKq",
        "outputId": "72e2ffa3-083c-4630-d195-dc5014843866"
      },
      "execution_count": 50,
      "outputs": [
        {
          "output_type": "execute_result",
          "data": {
            "text/plain": [
              "Text(0, 0.5, 'Spending Score')"
            ]
          },
          "metadata": {},
          "execution_count": 50
        },
        {
          "output_type": "display_data",
          "data": {
            "text/plain": [
              "<Figure size 800x800 with 1 Axes>"
            ],
            "image/png": "[encoded data removed]"
          },
          "metadata": {}
        }
      ]
    },
    {
      "cell_type": "code",
      "source": [],
      "metadata": {
        "id": "CXRrdwmT4FKS"
      },
      "execution_count": 46,
      "outputs": []
    }
  ]
}